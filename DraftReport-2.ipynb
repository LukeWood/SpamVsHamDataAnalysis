{
 "cells": [
  {
   "cell_type": "markdown",
   "metadata": {
    "deletable": true,
    "editable": true
   },
   "source": [
    "# Spam or Ham?"
   ]
  },
  {
   "cell_type": "markdown",
   "metadata": {
    "deletable": true,
    "editable": true
   },
   "source": [
    "## Lab Assignment Two: Exploring Text Data "
   ]
  },
  {
   "cell_type": "markdown",
   "metadata": {
    "deletable": true,
    "editable": true
   },
   "source": [
    "### Justin Ledford, Luke Wood, Traian Pop \n",
    "___"
   ]
  },
  {
   "cell_type": "markdown",
   "metadata": {
    "deletable": true,
    "editable": true
   },
   "source": [
    "## Business Understanding"
   ]
  },
  {
   "cell_type": "markdown",
   "metadata": {
    "deletable": true,
    "editable": true
   },
   "source": [
    "### Data Background\n",
    "SMS messages play a huge role in a peron's life, and the confidentiality and integrity of said messages are of the highest priority to mobile carriers around the world. Due to this fact, many unlawful individuals and groups try and take advatange of the average consumer by flooding their inbox with spam, and while the majority of people successfully avoid it, there are people out there affected negatively by falling for false messages.  \n",
    "\n",
    "The data we selected is a compilation of 5574 SMS messages acquired from a variety of different sources, broke down in the following way: 452 of the messages came from the Grumbletext Web Site, 3375 of the messages were taken from the NUS SMS Corpus (database with legitimate message from the University of Singapore), 450 messages collected from Caroline Tag's PhD Thesis, and the last 1324 messages were from the SMS Spam Corpus v.0.1 Big. \n",
    "\n",
    "Overall there were 4827 \"ham\" messages and \"747\" spam messages.\n",
    "   \n",
    "### Purpose\n",
    "This data was collected initially for studies on deciphering the differences between a spam or ham (legitimate) messages. Uses for this research can involve advanced spam filtering technology or improved data sets for machine learning programs. However, a slight problem with this data set, as with most localized language-based data sets, is that due to the relatively small area of sampling, there are a lot of regional data points (such as slang, acronyms, etc) that can be considering \"useless\" data if a much more generalized data set is wanted. For our specific project however, we are keeping all this data in order for us to analyze it and get a better understanding of our data.\n",
    "___"
   ]
  },
  {
   "cell_type": "markdown",
   "metadata": {
    "collapsed": true,
    "deletable": true,
    "editable": true
   },
   "source": [
    "## Data Encoding"
   ]
  },
  {
   "cell_type": "markdown",
   "metadata": {
    "deletable": true,
    "editable": true
   },
   "source": [
    "### Extracting the Data"
   ]
  },
  {
   "cell_type": "code",
   "execution_count": 14,
   "metadata": {
    "collapsed": false,
    "deletable": true,
    "editable": true
   },
   "outputs": [],
   "source": [
    "import pandas as pd\n",
    "import numpy as np\n",
    "import requests\n",
    "import re\n",
    "import seaborn as sns\n",
    "from sklearn.feature_extraction.text import CountVectorizer, TfidfVectorizer\n",
    "import matplotlib.pyplot as plt\n",
    "import warnings\n",
    "warnings.filterwarnings(\"ignore\")\n",
    "%matplotlib inline\n",
    "\n",
    "descriptors_url = 'https://raw.githubusercontent.com/LukeWoodSMU/TextAnalysis/master/data/SMSSpamCollection'\n",
    "descriptors = requests.get(descriptors_url).text\n",
    "texts = []\n",
    "\n",
    "\n",
    "for line in descriptors.splitlines():\n",
    "    texts.append(line.rstrip().split(\"\\t\"))"
   ]
  },
  {
   "cell_type": "markdown",
   "metadata": {
    "deletable": true,
    "editable": true
   },
   "source": [
    "After the first look at the data we noticed a lot of numbers. Since almost every number was unique we concluded that the numbers were irrelevant to consider as words. We considered grouping all number tokens into one \"word\" and analyze the presence of words, but we decided to first start by just removing the numbers."
   ]
  },
  {
   "cell_type": "code",
   "execution_count": 15,
   "metadata": {
    "collapsed": false,
    "deletable": true,
    "editable": true
   },
   "outputs": [
    {
     "data": {
      "text/plain": [
       "[('ham',\n",
       "  'Go until jurong point, crazy.. Available only in bugis n great world la e buffet... Cine there got amore wat...'),\n",
       " ('ham', 'Ok lar... Joking wif u oni...'),\n",
       " ('spam',\n",
       "  \"Free entry in 2 a wkly comp to win FA Cup final tkts 21st May 2005. Text FA to 87121 to receive entry question(std txt rate)T&C's apply 08452810075over18's\"),\n",
       " ('ham', 'U dun say so early hor... U c already then say...'),\n",
       " ('ham', \"Nah I don't think he goes to usf, he lives around here though\"),\n",
       " ('spam',\n",
       "  \"FreeMsg Hey there darling it's been 3 week's now and no word back! I'd like some fun you up for it still? Tb ok! XxX std chgs to send, £1.50 to rcv\"),\n",
       " ('ham',\n",
       "  'Even my brother is not like to speak with me. They treat me like aids patent.'),\n",
       " ('ham',\n",
       "  \"As per your request 'Melle Melle (Oru Minnaminunginte Nurungu Vettam)' has been set as your callertune for all Callers. Press *9 to copy your friends Callertune\"),\n",
       " ('spam',\n",
       "  'WINNER!! As a valued network customer you have been selected to receivea £900 prize reward! To claim call 09061701461. Claim code KL341. Valid 12 hours only.'),\n",
       " ('spam',\n",
       "  'Had your mobile 11 months or more? U R entitled to Update to the latest colour mobiles with camera for Free! Call The Mobile Update Co FREE on 08002986 ')]"
      ]
     },
     "execution_count": 15,
     "metadata": {},
     "output_type": "execute_result"
    }
   ],
   "source": [
    "# Remove numbers\n",
    "texts = list(zip([a for a,b in texts], [re.sub('[0-9-]3+.*', ' ', b) for a,b in texts]))\n",
    "texts[:10]"
   ]
  },
  {
   "cell_type": "markdown",
   "metadata": {
    "deletable": true,
    "editable": true
   },
   "source": [
    "Converting the data from raw text into a sparse encoded bag-of-words representation. "
   ]
  },
  {
   "cell_type": "code",
   "execution_count": 16,
   "metadata": {
    "collapsed": false,
    "deletable": true,
    "editable": true
   },
   "outputs": [],
   "source": [
    "# Create bag of words\n",
    "count_vect = CountVectorizer(stop_words='english')\n",
    "bag_words = count_vect.fit_transform([t[1] for t in texts])\n",
    "count_vect_ham = CountVectorizer(stop_words='english')\n",
    "bag_words_ham = count_vect_ham.fit_transform([t[1] for t in texts if t[0] == 'ham'])\n",
    "count_vect_spam = CountVectorizer(stop_words='english')\n",
    "bag_words_spam = count_vect_spam.fit_transform([t[1] for t in texts if t[0] == 'spam'])"
   ]
  },
  {
   "cell_type": "code",
   "execution_count": 17,
   "metadata": {
    "collapsed": false,
    "deletable": true,
    "editable": true,
    "scrolled": false
   },
   "outputs": [],
   "source": [
    "# Words counts per row in pandas dataframe\n",
    "df = pd.DataFrame(data=bag_words.toarray(),columns=count_vect.get_feature_names())"
   ]
  },
  {
   "cell_type": "code",
   "execution_count": 18,
   "metadata": {
    "collapsed": false,
    "deletable": true,
    "editable": true
   },
   "outputs": [
    {
     "data": {
      "text/plain": [
       "good    243\n",
       "like    244\n",
       "know    262\n",
       "free    268\n",
       "ll      269\n",
       "ok      292\n",
       "lt      316\n",
       "gt      318\n",
       "just    368\n",
       "ur      382\n",
       "dtype: int64"
      ]
     },
     "execution_count": 18,
     "metadata": {},
     "output_type": "execute_result"
    }
   ],
   "source": [
    "# print out 10 most common words in our data\n",
    "df.sum().sort_values()[-10:]"
   ]
  },
  {
   "cell_type": "markdown",
   "metadata": {
    "deletable": true,
    "editable": true
   },
   "source": [
    "It is interesting to see that 40% of the top words of our data set are \"slang\" words, as one would assume in a texting database there would be a higher percentage of abbreviations."
   ]
  },
  {
   "cell_type": "markdown",
   "metadata": {
    "deletable": true,
    "editable": true
   },
   "source": [
    "Converting the data into a sparse encoded tf-idf representation."
   ]
  },
  {
   "cell_type": "code",
   "execution_count": 19,
   "metadata": {
    "collapsed": false,
    "deletable": true,
    "editable": true
   },
   "outputs": [
    {
     "data": {
      "text/html": [
       "<div>\n",
       "<table border=\"1\" class=\"dataframe\">\n",
       "  <thead>\n",
       "    <tr style=\"text-align: right;\">\n",
       "      <th></th>\n",
       "      <th>00</th>\n",
       "      <th>000</th>\n",
       "      <th>000pes</th>\n",
       "      <th>008704050406</th>\n",
       "      <th>0089</th>\n",
       "      <th>012</th>\n",
       "      <th>0121</th>\n",
       "      <th>0125698789</th>\n",
       "      <th>02</th>\n",
       "      <th>020</th>\n",
       "      <th>...</th>\n",
       "      <th>zeros</th>\n",
       "      <th>zhong</th>\n",
       "      <th>zindgi</th>\n",
       "      <th>zoe</th>\n",
       "      <th>zogtorius</th>\n",
       "      <th>zoom</th>\n",
       "      <th>zouk</th>\n",
       "      <th>zyada</th>\n",
       "      <th>ú1</th>\n",
       "      <th>〨ud</th>\n",
       "    </tr>\n",
       "  </thead>\n",
       "  <tbody>\n",
       "    <tr>\n",
       "      <th>0</th>\n",
       "      <td>0.0</td>\n",
       "      <td>0.0</td>\n",
       "      <td>0.0</td>\n",
       "      <td>0.0</td>\n",
       "      <td>0.0</td>\n",
       "      <td>0.0</td>\n",
       "      <td>0.0</td>\n",
       "      <td>0.0</td>\n",
       "      <td>0.0</td>\n",
       "      <td>0.0</td>\n",
       "      <td>...</td>\n",
       "      <td>0.0</td>\n",
       "      <td>0.0</td>\n",
       "      <td>0.0</td>\n",
       "      <td>0.0</td>\n",
       "      <td>0.0</td>\n",
       "      <td>0.0</td>\n",
       "      <td>0.0</td>\n",
       "      <td>0.0</td>\n",
       "      <td>0.0</td>\n",
       "      <td>0.0</td>\n",
       "    </tr>\n",
       "    <tr>\n",
       "      <th>1</th>\n",
       "      <td>0.0</td>\n",
       "      <td>0.0</td>\n",
       "      <td>0.0</td>\n",
       "      <td>0.0</td>\n",
       "      <td>0.0</td>\n",
       "      <td>0.0</td>\n",
       "      <td>0.0</td>\n",
       "      <td>0.0</td>\n",
       "      <td>0.0</td>\n",
       "      <td>0.0</td>\n",
       "      <td>...</td>\n",
       "      <td>0.0</td>\n",
       "      <td>0.0</td>\n",
       "      <td>0.0</td>\n",
       "      <td>0.0</td>\n",
       "      <td>0.0</td>\n",
       "      <td>0.0</td>\n",
       "      <td>0.0</td>\n",
       "      <td>0.0</td>\n",
       "      <td>0.0</td>\n",
       "      <td>0.0</td>\n",
       "    </tr>\n",
       "    <tr>\n",
       "      <th>2</th>\n",
       "      <td>0.0</td>\n",
       "      <td>0.0</td>\n",
       "      <td>0.0</td>\n",
       "      <td>0.0</td>\n",
       "      <td>0.0</td>\n",
       "      <td>0.0</td>\n",
       "      <td>0.0</td>\n",
       "      <td>0.0</td>\n",
       "      <td>0.0</td>\n",
       "      <td>0.0</td>\n",
       "      <td>...</td>\n",
       "      <td>0.0</td>\n",
       "      <td>0.0</td>\n",
       "      <td>0.0</td>\n",
       "      <td>0.0</td>\n",
       "      <td>0.0</td>\n",
       "      <td>0.0</td>\n",
       "      <td>0.0</td>\n",
       "      <td>0.0</td>\n",
       "      <td>0.0</td>\n",
       "      <td>0.0</td>\n",
       "    </tr>\n",
       "    <tr>\n",
       "      <th>3</th>\n",
       "      <td>0.0</td>\n",
       "      <td>0.0</td>\n",
       "      <td>0.0</td>\n",
       "      <td>0.0</td>\n",
       "      <td>0.0</td>\n",
       "      <td>0.0</td>\n",
       "      <td>0.0</td>\n",
       "      <td>0.0</td>\n",
       "      <td>0.0</td>\n",
       "      <td>0.0</td>\n",
       "      <td>...</td>\n",
       "      <td>0.0</td>\n",
       "      <td>0.0</td>\n",
       "      <td>0.0</td>\n",
       "      <td>0.0</td>\n",
       "      <td>0.0</td>\n",
       "      <td>0.0</td>\n",
       "      <td>0.0</td>\n",
       "      <td>0.0</td>\n",
       "      <td>0.0</td>\n",
       "      <td>0.0</td>\n",
       "    </tr>\n",
       "    <tr>\n",
       "      <th>4</th>\n",
       "      <td>0.0</td>\n",
       "      <td>0.0</td>\n",
       "      <td>0.0</td>\n",
       "      <td>0.0</td>\n",
       "      <td>0.0</td>\n",
       "      <td>0.0</td>\n",
       "      <td>0.0</td>\n",
       "      <td>0.0</td>\n",
       "      <td>0.0</td>\n",
       "      <td>0.0</td>\n",
       "      <td>...</td>\n",
       "      <td>0.0</td>\n",
       "      <td>0.0</td>\n",
       "      <td>0.0</td>\n",
       "      <td>0.0</td>\n",
       "      <td>0.0</td>\n",
       "      <td>0.0</td>\n",
       "      <td>0.0</td>\n",
       "      <td>0.0</td>\n",
       "      <td>0.0</td>\n",
       "      <td>0.0</td>\n",
       "    </tr>\n",
       "  </tbody>\n",
       "</table>\n",
       "<p>5 rows × 8057 columns</p>\n",
       "</div>"
      ],
      "text/plain": [
       "    00  000  000pes  008704050406  0089  012  0121  0125698789   02  020 ...   \\\n",
       "0  0.0  0.0     0.0           0.0   0.0  0.0   0.0         0.0  0.0  0.0 ...    \n",
       "1  0.0  0.0     0.0           0.0   0.0  0.0   0.0         0.0  0.0  0.0 ...    \n",
       "2  0.0  0.0     0.0           0.0   0.0  0.0   0.0         0.0  0.0  0.0 ...    \n",
       "3  0.0  0.0     0.0           0.0   0.0  0.0   0.0         0.0  0.0  0.0 ...    \n",
       "4  0.0  0.0     0.0           0.0   0.0  0.0   0.0         0.0  0.0  0.0 ...    \n",
       "\n",
       "   zeros  zhong  zindgi  zoe  zogtorius  zoom  zouk  zyada   ú1  〨ud  \n",
       "0    0.0    0.0     0.0  0.0        0.0   0.0   0.0    0.0  0.0  0.0  \n",
       "1    0.0    0.0     0.0  0.0        0.0   0.0   0.0    0.0  0.0  0.0  \n",
       "2    0.0    0.0     0.0  0.0        0.0   0.0   0.0    0.0  0.0  0.0  \n",
       "3    0.0    0.0     0.0  0.0        0.0   0.0   0.0    0.0  0.0  0.0  \n",
       "4    0.0    0.0     0.0  0.0        0.0   0.0   0.0    0.0  0.0  0.0  \n",
       "\n",
       "[5 rows x 8057 columns]"
      ]
     },
     "execution_count": 19,
     "metadata": {},
     "output_type": "execute_result"
    }
   ],
   "source": [
    "# Get tfidf\n",
    "tfidf_vect = TfidfVectorizer(stop_words='english')\n",
    "tfidf_mat = tfidf_vect.fit_transform([t[1] for t in texts])\n",
    "tfidf_df = pd.DataFrame(data=tfidf_mat.toarray(), columns=tfidf_vect.get_feature_names())\n",
    "tfidf_df.head(n=5)"
   ]
  },
  {
   "cell_type": "code",
   "execution_count": 20,
   "metadata": {
    "collapsed": false,
    "deletable": true,
    "editable": true
   },
   "outputs": [
    {
     "data": {
      "text/plain": [
       "time     56.945668\n",
       "know     59.017660\n",
       "good     59.766063\n",
       "lt       64.356000\n",
       "ur       64.382773\n",
       "gt       64.679294\n",
       "come     67.380358\n",
       "just     72.266374\n",
       "ll       79.736271\n",
       "ok      103.308348\n",
       "dtype: float64"
      ]
     },
     "execution_count": 20,
     "metadata": {},
     "output_type": "execute_result"
    }
   ],
   "source": [
    "#print out 10 most common words in our data\n",
    "tfidf_df.sum().sort_values()[-10:]"
   ]
  },
  {
   "cell_type": "markdown",
   "metadata": {
    "deletable": true,
    "editable": true
   },
   "source": [
    "When analyzing the top 10 most common words in our data with the TF-IDF representation, our top winners change. Instead of the previous \"ur\" being #1, it seems that it drops all the way down to #7, while \"ok\" jumps from #5 to #1. This means that \"ok\" is a more more relevant word throughout the documents compared to \"ur\" while \"ur\" itself just happens to have more individual hits. "
   ]
  },
  {
   "cell_type": "markdown",
   "metadata": {
    "deletable": true,
    "editable": true
   },
   "source": [
    "Using tf-idf we can see which words are most relevant for ham and spam messages."
   ]
  },
  {
   "cell_type": "code",
   "execution_count": 21,
   "metadata": {
    "collapsed": false,
    "deletable": true,
    "editable": true
   },
   "outputs": [
    {
     "data": {
      "text/plain": [
       "home      54.427173\n",
       "know      54.526118\n",
       "sorry     55.010803\n",
       "good      57.433290\n",
       "lt        62.619921\n",
       "gt        62.980016\n",
       "just      63.966590\n",
       "come      65.946440\n",
       "ll        77.769828\n",
       "ok       100.941869\n",
       "dtype: float64"
      ]
     },
     "execution_count": 21,
     "metadata": {},
     "output_type": "execute_result"
    }
   ],
   "source": [
    "tfidf_vect_ham = TfidfVectorizer(stop_words='english')\n",
    "tfidf_mat_ham = tfidf_vect_ham.fit_transform([t[1] for t in texts if t[0] == 'ham'])\n",
    "tfidf_df_ham = pd.DataFrame(data=tfidf_mat_ham.toarray(), columns=tfidf_vect_ham.get_feature_names())\n",
    "tfidf_df_ham.sum().sort_values()[-10:]"
   ]
  },
  {
   "cell_type": "code",
   "execution_count": 22,
   "metadata": {
    "collapsed": false,
    "deletable": true,
    "editable": true,
    "scrolled": true
   },
   "outputs": [
    {
     "data": {
      "text/plain": [
       "reply     14.216356\n",
       "stop      14.292372\n",
       "claim     15.725948\n",
       "urgent    15.902412\n",
       "prize     16.668448\n",
       "text      17.226986\n",
       "txt       18.288373\n",
       "ur        18.304256\n",
       "mobile    18.412027\n",
       "free      26.184182\n",
       "dtype: float64"
      ]
     },
     "execution_count": 22,
     "metadata": {},
     "output_type": "execute_result"
    }
   ],
   "source": [
    "tfidf_vect_spam = TfidfVectorizer(stop_words='english')\n",
    "tfidf_mat_spam = tfidf_vect_spam.fit_transform([t[1] for t in texts if t[0] == 'spam'])\n",
    "tfidf_df_spam = pd.DataFrame(data=tfidf_mat_spam.toarray(), columns=tfidf_vect_spam.get_feature_names())\n",
    "tfidf_df_spam.sum().sort_values()[-10:]"
   ]
  },
  {
   "cell_type": "markdown",
   "metadata": {
    "deletable": true,
    "editable": true
   },
   "source": [
    "When comparing the tf-idf values between the \"spam\" and \"ham\" messages, it is interesting to see the huge range the top values share. Originally, we assumed that the \"spam\"'s data set values would have a much higher tf-idf due to the automatic and computerized nature of the messages, but after seeing that \"spam\" messages are consistently also much longer than \"ham\" messages, it makes sense that they would also have a much lower score. \n",
    "   \n",
    "As for the specific words that top the lists in each category, they are consistent with our previous observations."
   ]
  },
  {
   "cell_type": "code",
   "execution_count": 23,
   "metadata": {
    "collapsed": true
   },
   "outputs": [],
   "source": [
    "#temp variable for later\n",
    "normal_texts = list(texts)"
   ]
  },
  {
   "cell_type": "markdown",
   "metadata": {
    "deletable": true,
    "editable": true
   },
   "source": [
    "## Number related data\n",
    "\n",
    "We thought it would be interesting to see the percentage of spam texts that had a number in them and compare that with the number of ham texts that have a number in them.  To do so, we put together a regular expression to replace numbers with \"NUMBER_TOKEN\" and counted the lines that contained \"NUMBER_TOKEN\".  "
   ]
  },
  {
   "cell_type": "code",
   "execution_count": 24,
   "metadata": {
    "collapsed": false,
    "deletable": true,
    "editable": true
   },
   "outputs": [
    {
     "name": "stdout",
     "output_type": "stream",
     "text": [
      "Percent of spam texts with a number: 94.4%\n",
      "Percent of ham texts with a number: 19.2%\n"
     ]
    }
   ],
   "source": [
    "for line in descriptors.splitlines():\n",
    "    texts.append(line.rstrip().split(\"\\t\"))\n",
    "\n",
    "texts = list(zip([a for a,b in texts], [re.sub('[0-9-]+.*', 'NUMBER_TOKEN', b) for a,b in texts]))\n",
    "\n",
    "spam_numbers = len([a for a,b in texts if \"NUMBER_TOKEN\" in b and a==\"spam\"])\n",
    "total_spam = len([a for a,b in texts if a==\"spam\"])\n",
    "print(\"Percent of spam texts with a number: %.1f\" %(100* spam_numbers/total_spam)+\"%\")\n",
    "\n",
    "ham_numbers = len([a for a,b in texts if \"NUMBER_TOKEN\" in b and a==\"ham\"])\n",
    "total_ham = len([a for a,b in texts if a==\"ham\"])\n",
    "print(\"Percent of ham texts with a number: %.1f\" %(100 * ham_numbers/total_ham)+\"%\")\n"
   ]
  },
  {
   "cell_type": "markdown",
   "metadata": {
    "deletable": true,
    "editable": true
   },
   "source": [
    "We found that a far higher percentage of the spam texts had numbers in them.  90% of spam texts had numbers in them, while only 18.3% of non-spam texts had numbers in them.  Next, we decided to test specifically for phone numbers.  In order to do so, we required that the number contain at least 3 digits to be changed into the NUMBER_TOKEN.  This fits things in the format 1-800-MUH-SPAM along with 1-800-000-0000"
   ]
  },
  {
   "cell_type": "code",
   "execution_count": 25,
   "metadata": {
    "collapsed": false,
    "deletable": true,
    "editable": true
   },
   "outputs": [
    {
     "name": "stdout",
     "output_type": "stream",
     "text": [
      "Percent of spam texts with a number: 77.0%\n",
      "Percent of ham texts with a number: 12.9%\n"
     ]
    }
   ],
   "source": [
    "for line in descriptors.splitlines():\n",
    "    texts.append(line.rstrip().split(\"\\t\"))\n",
    "\n",
    "texts = list(zip([a for a,b in texts], [re.sub('[0-9-]3+.*', 'NUMBER_TOKEN', b) for a,b in texts]))\n",
    "\n",
    "spam_numbers = len([a for a,b in texts if \"NUMBER_TOKEN\" in b and a==\"spam\"])\n",
    "total_spam = len([a for a,b in texts if a==\"spam\"])\n",
    "print(\"Percent of spam texts with a number: %.1f\" %(100* spam_numbers/total_spam)+\"%\")\n",
    "\n",
    "ham_numbers = len([a for a,b in texts if \"NUMBER_TOKEN\" in b and a==\"ham\"])\n",
    "total_ham = len([a for a,b in texts if a==\"ham\"])\n",
    "print(\"Percent of ham texts with a number: %.1f\" %(100 * ham_numbers/total_ham)+\"%\")\n"
   ]
  },
  {
   "cell_type": "markdown",
   "metadata": {
    "deletable": true,
    "editable": true
   },
   "source": [
    "It turned out other numbers were a pretty negligible part of the numbers showing up.  The numbers were still pretty similar.\n",
    "___"
   ]
  },
  {
   "cell_type": "markdown",
   "metadata": {
    "deletable": true,
    "editable": true
   },
   "source": [
    "## Data Visualization"
   ]
  },
  {
   "cell_type": "markdown",
   "metadata": {
    "deletable": true,
    "editable": true
   },
   "source": [
    "We started out by creating histograms of the relative frequencies of the top 50 most occurring words for the entire data set, just the spam messages, and just the ham messages.\n",
    "   \n",
    "We can see that of the top 50 words occurring in each class, the top words occurring in spam texts are much more frequent than the most frequent words in the ham texts."
   ]
  },
  {
   "cell_type": "code",
   "execution_count": 27,
   "metadata": {
    "collapsed": false,
    "deletable": true,
    "editable": true,
    "scrolled": false
   },
   "outputs": [
    {
     "data": {
      "image/png": "[encoded data removed]",
      "text/plain": [
       "<matplotlib.figure.Figure at 0x1199b4208>"
      ]
     },
     "metadata": {},
     "output_type": "display_data"
    }
   ],
   "source": [
    "#add a column to determine whether a message is spam, or ham\n",
    "df[\"spam\"] = [t[0] for t in normal_texts]\n",
    "\n",
    "total_count = df[[x for x in df.columns if x != \"spam\"]].sum().sum()\n",
    "spam_count = df[df.spam == \"spam\"][[x for x in df.columns if x!=\"spam\"]].sum().sum()\n",
    "ham_count = df[df.spam == \"ham\"][[x for x in df.columns if x!=\"spam\"]].sum().sum()\n",
    "\n",
    "sns.distplot(df[[x for x in df.columns if x!=\"spam\"]].sum().sort_values()[-50:], hist=True)\n",
    "plt.tight_layout()\n",
    "plt.show()"
   ]
  },
  {
   "cell_type": "markdown",
   "metadata": {},
   "source": [
    "In the above graph, we see compare the frequences of the top 50 words across both data sets. It makes sense that the y-axis has such low frequencies due to how many words there are in the data set and the fact that the highest count word only hit 382 (\"ur\"). "
   ]
  },
  {
   "cell_type": "code",
   "execution_count": 28,
   "metadata": {
    "collapsed": false
   },
   "outputs": [
    {
     "data": {
      "image/png": "[encoded data removed]",
      "text/plain": [
       "<matplotlib.figure.Figure at 0x1141b53c8>"
      ]
     },
     "metadata": {},
     "output_type": "display_data"
    }
   ],
   "source": [
    "sns.distplot(df[df.spam == \"spam\"][[x for x in df.columns if x!=\"spam\"]].sum().sort_values()[-50:]/spam_count, hist=True)\n",
    "plt.tight_layout()\n",
    "plt.show()"
   ]
  },
  {
   "cell_type": "markdown",
   "metadata": {},
   "source": [
    "Here, we analyze the frequencies of the top 50 words from the spam data set. It is interesting to see that here, the graph is severly skewed right, with the majority of the data points on the left hand side. This shows that \"spam\" messages are typically more similar to each other due to the max frequency being somewhere around 0.020."
   ]
  },
  {
   "cell_type": "code",
   "execution_count": 29,
   "metadata": {
    "collapsed": false
   },
   "outputs": [
    {
     "data": {
      "image/png": "[encoded data removed]",
      "text/plain": [
       "<matplotlib.figure.Figure at 0x119224208>"
      ]
     },
     "metadata": {},
     "output_type": "display_data"
    }
   ],
   "source": [
    "sns.distplot(df[df.spam==\"ham\"][[x for x in df.columns if x!=\"spam\"]].sum().sort_values()[-50:]/ham_count, hist=True,)\n",
    "plt.tight_layout()\n",
    "plt.show()"
   ]
  },
  {
   "cell_type": "markdown",
   "metadata": {},
   "source": [
    "In comparison to the top 50 for \"spam\", the frequencies of the top 50 \"ham\" words are much more condensed, showing that a larger percentge of them are different from each other than the \"spam\" ones."
   ]
  },
  {
   "cell_type": "markdown",
   "metadata": {
    "deletable": true,
    "editable": true
   },
   "source": [
    "In order to visualize the distribution of all of the word frequencies we decided to use a box plot."
   ]
  },
  {
   "cell_type": "code",
   "execution_count": 30,
   "metadata": {
    "collapsed": false,
    "deletable": true,
    "editable": true
   },
   "outputs": [
    {
     "data": {
      "image/png": "[encoded data removed]",
      "text/plain": [
       "<matplotlib.figure.Figure at 0x14d917160>"
      ]
     },
     "metadata": {},
     "output_type": "display_data"
    }
   ],
   "source": [
    "freqs = [ [\"ham\", f] for f in \\\n",
    "         df[df.spam == \"ham\"][[x for x in df.columns if x!=\"spam\"]].sum().sort_values()/ham_count]\n",
    "freqs += [ [\"spam\", f] for f in \\\n",
    "         df[df.spam == \"spam\"][[x for x in df.columns if x!=\"spam\"]].sum().sort_values()/spam_count]\n",
    "freqs = list(filter(lambda t: t[1] > 0, freqs))\n",
    "df_freqs = pd.DataFrame(data=freqs)\n",
    "df_freqs.columns = ['spam', 'frequencies']\n",
    "sns.boxplot(x='spam', y='frequencies', data=df_freqs)\n",
    "plt.title('Frequencies of words by class')\n",
    "plt.xlabel('')\n",
    "plt.show()"
   ]
  },
  {
   "cell_type": "markdown",
   "metadata": {
    "deletable": true,
    "editable": true
   },
   "source": [
    "There are clearly a lot of very high outliers. There are most likely a large amount of unique words only occurring one or two times, such as names, as well as misspelled words."
   ]
  },
  {
   "cell_type": "code",
   "execution_count": 31,
   "metadata": {
    "collapsed": false,
    "deletable": true,
    "editable": true
   },
   "outputs": [
    {
     "data": {
      "image/png": "[encoded data removed]",
      "text/plain": [
       "<matplotlib.figure.Figure at 0x119a1e978>"
      ]
     },
     "metadata": {},
     "output_type": "display_data"
    }
   ],
   "source": [
    "freqs = list(filter(lambda t: t[1] < 0.0004, freqs))\n",
    "df_freqs = pd.DataFrame(data=freqs)\n",
    "df_freqs.columns = ['spam', 'frequencies']\n",
    "sns.boxplot(x='spam', y='frequencies', data=df_freqs)\n",
    "plt.title('Frequencies of words by class')\n",
    "plt.xlabel('')\n",
    "plt.show()"
   ]
  },
  {
   "cell_type": "markdown",
   "metadata": {
    "deletable": true,
    "editable": true
   },
   "source": [
    "From the box plots we can still see that the distribution of word frequencies is very right skewed. We can also see the same trend from the distribution plots that words occurring more in spam occur more than the most in ham. This could mean that spam messages tend to use a subset of words more."
   ]
  },
  {
   "cell_type": "code",
   "execution_count": 32,
   "metadata": {
    "collapsed": false,
    "deletable": true,
    "editable": true
   },
   "outputs": [
    {
     "data": {
      "text/plain": [
       "prize     0.008402\n",
       "claim     0.009002\n",
       "reply     0.009102\n",
       "www       0.009202\n",
       "stop      0.009702\n",
       "mobile    0.010702\n",
       "text      0.011502\n",
       "ur        0.013503\n",
       "txt       0.015403\n",
       "free      0.020904\n",
       "dtype: float64"
      ]
     },
     "execution_count": 32,
     "metadata": {},
     "output_type": "execute_result"
    }
   ],
   "source": [
    "(df[df.spam == \"spam\"][[x for x in df.columns if x!=\"spam\"]].sum().sort_values()/spam_count)[-10:]"
   ]
  },
  {
   "cell_type": "markdown",
   "metadata": {
    "deletable": true,
    "editable": true
   },
   "source": [
    "Here we can see that the top 10 most frequent words of spam are words you would think would be in spam, such as \"prize\", \"claim\", \"reply\" and \"free\"."
   ]
  },
  {
   "cell_type": "markdown",
   "metadata": {
    "deletable": true,
    "editable": true
   },
   "source": [
    "### Document Lengths\n",
    "After analyzing the frequencies and distribution of the top words in the document, we wanted to compare the lengths of the two classes of documents. We thought box plots, violin plots, and histograms would be the best visualizations for this."
   ]
  },
  {
   "cell_type": "code",
   "execution_count": 65,
   "metadata": {
    "collapsed": false,
    "deletable": true,
    "editable": true
   },
   "outputs": [
    {
     "data": {
      "image/png": "[encoded data removed]",
      "text/plain": [
       "<matplotlib.figure.Figure at 0x1191b25f8>"
      ]
     },
     "metadata": {},
     "output_type": "display_data"
    }
   ],
   "source": [
    "spam_lines = [\" \".join(x.split(\"\\t\")[1:]) for x in descriptors.splitlines() if x.split('\\t')[0] == \"spam\"]\n",
    "ham_lines = [\" \".join(x.split(\"\\t\")[1:]) for x in descriptors.splitlines() if x.split('\\t')[0] == \"ham\"]\n",
    "total_lines = [\" \".join(x.split(\"\\t\")[1:]) for x in descriptors.splitlines()]\n",
    "\n",
    "sns.distplot([len(x) for x in total_lines])\n",
    "plt.show()"
   ]
  },
  {
   "cell_type": "markdown",
   "metadata": {
    "deletable": true,
    "editable": true
   },
   "source": [
    "After first plotting the lengths of all texts, we can see that there are a lot of outliers above 200. There also seems to a be bi modal distribution happening which could possibly relate to the two different classes.\n",
    "\n",
    "In order to get a better sense of the distribution without the outliers we decided to limit the length of the texts to 160, which is the limit for a single SMS text message. Those higher than this must have been combined into a single message in the data set."
   ]
  },
  {
   "cell_type": "code",
   "execution_count": 66,
   "metadata": {
    "collapsed": false,
    "deletable": true,
    "editable": true
   },
   "outputs": [
    {
     "data": {
      "image/png": "[encoded data removed]",
      "text/plain": [
       "<matplotlib.figure.Figure at 0x14d9e7e80>"
      ]
     },
     "metadata": {},
     "output_type": "display_data"
    }
   ],
   "source": [
    "#filter out texts longer than 160, SMS cuts off here\n",
    "spam_lines = filter(lambda x:len(x) < 160,spam_lines)\n",
    "ham_lines = filter(lambda x:len(x) < 160,ham_lines)\n",
    "total_lines = filter(lambda x:len(x) < 160,total_lines)\n",
    "\n",
    "sns.distplot([len(x) for x in total_lines])\n",
    "plt.show()\n"
   ]
  },
  {
   "cell_type": "markdown",
   "metadata": {
    "deletable": true,
    "editable": true
   },
   "source": [
    "Removing those outliers gives us a much better look into the distribution of the lengths. Next we plotted the spam lengths."
   ]
  },
  {
   "cell_type": "code",
   "execution_count": 67,
   "metadata": {
    "collapsed": false,
    "deletable": true,
    "editable": true
   },
   "outputs": [
    {
     "data": {
      "image/png": "[encoded data removed]",
      "text/plain": [
       "<matplotlib.figure.Figure at 0x119a3bba8>"
      ]
     },
     "metadata": {},
     "output_type": "display_data"
    }
   ],
   "source": [
    "sns.distplot([len(x) for x in spam_lines])\n",
    "plt.show()"
   ]
  },
  {
   "cell_type": "markdown",
   "metadata": {
    "deletable": true,
    "editable": true
   },
   "source": [
    "We see that the spam texts in our data set tend to be skewed very left (the majority of the points are on the right, with a few trailing towards the left), which indicates that SMS messages typically tend to be longer than their ham (real) counterparts. "
   ]
  },
  {
   "cell_type": "code",
   "execution_count": 68,
   "metadata": {
    "collapsed": false,
    "deletable": true,
    "editable": true
   },
   "outputs": [
    {
     "data": {
      "image/png": "[encoded data removed]",
      "text/plain": [
       "<matplotlib.figure.Figure at 0x1190318d0>"
      ]
     },
     "metadata": {},
     "output_type": "display_data"
    }
   ],
   "source": [
    "sns.distplot([len(x) for x in ham_lines])\n",
    "plt.show()"
   ]
  },
  {
   "cell_type": "markdown",
   "metadata": {
    "deletable": true,
    "editable": true
   },
   "source": [
    "Coincidentally, this second graph shows the complete opposite: the ham texts tend to be much shorter in length. It is interesting to see that this graph is practically the reflection of the spam graph in almost every characteristic. They are both uni modal and heavily skewed in their respective directions."
   ]
  },
  {
   "cell_type": "markdown",
   "metadata": {
    "deletable": true,
    "editable": true
   },
   "source": [
    "By looking at the individual graphs of each class we can see that our earlier conclusion that the bi modal distribution relates to each class is true. Next we decided to plot the lengths side by side in a box plot to get a different perspective on the comparison."
   ]
  },
  {
   "cell_type": "code",
   "execution_count": 69,
   "metadata": {
    "collapsed": false,
    "deletable": true,
    "editable": true
   },
   "outputs": [
    {
     "data": {
      "image/png": "[encoded data removed]",
      "text/plain": [
       "<matplotlib.figure.Figure at 0x14d8d4c88>"
      ]
     },
     "metadata": {},
     "output_type": "display_data"
    }
   ],
   "source": [
    "lens = [ [a, len(b)] for a,b in texts if len(b) < 160 ]\n",
    "df_lens = pd.DataFrame(data=lens)\n",
    "df_lens.columns = ['spam', 'length']\n",
    "sns.boxplot(x='spam', y='length', data=df_lens)\n",
    "plt.show()"
   ]
  },
  {
   "cell_type": "markdown",
   "metadata": {
    "deletable": true,
    "editable": true
   },
   "source": [
    "From the box plot we can see a major difference between the two classes of documents and how related document length is to the class."
   ]
  },
  {
   "cell_type": "code",
   "execution_count": 70,
   "metadata": {
    "collapsed": false,
    "deletable": true,
    "editable": true
   },
   "outputs": [
    {
     "data": {
      "image/png": "[encoded data removed]",
      "text/plain": [
       "<matplotlib.figure.Figure at 0x114649fd0>"
      ]
     },
     "metadata": {},
     "output_type": "display_data"
    }
   ],
   "source": [
    "sns.violinplot(x='spam', y='length', data=df_lens)\n",
    "plt.show()"
   ]
  },
  {
   "cell_type": "markdown",
   "metadata": {
    "deletable": true,
    "editable": true
   },
   "source": [
    "Finally, our violin graph combines both our histogram and box plots in order to give a more concise visualization of our document length analysis."
   ]
  },
  {
   "cell_type": "markdown",
   "metadata": {
    "deletable": true,
    "editable": true
   },
   "source": [
    "### Vocabulary Size\n",
    "\n",
    "Next we wanted to take a look at the difference between vocabulary sizes so we thought an area proportional Venn diagram would be best to view this."
   ]
  },
  {
   "cell_type": "code",
   "execution_count": 39,
   "metadata": {
    "collapsed": false,
    "deletable": true,
    "editable": true
   },
   "outputs": [
    {
     "data": {
      "image/png": "[encoded data removed]",
      "text/plain": [
       "<matplotlib.figure.Figure at 0x11466d1d0>"
      ]
     },
     "metadata": {},
     "output_type": "display_data"
    }
   ],
   "source": [
    "from matplotlib_venn import venn2\n",
    "\n",
    "ham_vocab_count = len(count_vect_ham.vocabulary_)\n",
    "spam_vocab_count = len(count_vect_spam.vocabulary_)\n",
    "and_vocab_count = len(set(count_vect_ham.vocabulary_.keys()) & \\\n",
    "                      set(count_vect_spam.vocabulary_.keys()))\n",
    "\n",
    "v = venn2(subsets=(ham_vocab_count, spam_vocab_count, and_vocab_count),\n",
    "          set_labels = ('Ham', 'Spam'))\n",
    "v.get_patch_by_id('10').set_color('green')\n",
    "v.get_patch_by_id('01').set_color('red')\n",
    "plt.title(\"Vocabulary sizes\")\n",
    "plt.show()"
   ]
  },
  {
   "cell_type": "markdown",
   "metadata": {
    "deletable": true,
    "editable": true
   },
   "source": [
    "We can see that there are many words belonging exclusively to each class. Although the \"spam\" words are considerably less in amount compared to the \"ham\" words, we believe this still gives a very good visualization about the word distribution throughout both categories. This large gap between the percentage of words they share is probably due to the \"slang\" in the \"ham\" text data base that is typically not present in the \"spam\" one."
   ]
  },
  {
   "cell_type": "markdown",
   "metadata": {
    "collapsed": true,
    "deletable": true,
    "editable": true
   },
   "source": [
    "# Cool Stuff\n",
    "   \n",
    "## Trie Representation\n",
    "### REMEMBER It's not about if we should, it's about if we can.\n",
    "\n",
    "This lets you look up if a word is in the data set.  I'm not trying to say it's particularly useful, but it's pretty cool.  It should work at http://localhost:8888/files/visuals/trie/index.html as well assuming you are running jupyter notebook.  I've also included an iframe but honestly I wouldn't use the iframe since it doesn't do the chart justice (you might have to scroll down to see it)\n",
    "\n",
    "Also, you can check out my data parsing in /visuals/trie/main.js, it's pretty sweet.  I think that another thing to note is the wide variety of words that occur that are not actually words.  For example, what in the world is aaniye, or mmsto.  The trie shows an overview of the language used of texts in an interesting way.\n",
    "\n",
    "I really recommend looking at it on http://localhost:8888/files/visuals/trie/index.html for the full screen experience.  \n",
    "\n",
    "</br>Forked from: http://bl.ocks.org/d3noob/8375092\n",
    "\n",
    "#### Would definitely reccomend running this, it's pretty fun."
   ]
  },
  {
   "cell_type": "code",
   "execution_count": 1,
   "metadata": {
    "collapsed": false,
    "deletable": true,
    "editable": true
   },
   "outputs": [
    {
     "data": {
      "text/html": [
       "\n",
       "        <iframe\n",
       "            width=\"1080\"\n",
       "            height=\"1080\"\n",
       "            src=\"visuals/trie/index.html\"\n",
       "            frameborder=\"0\"\n",
       "            allowfullscreen\n",
       "        ></iframe>\n",
       "        "
      ],
      "text/plain": [
       "<IPython.lib.display.IFrame at 0x106bf0828>"
      ]
     },
     "execution_count": 1,
     "metadata": {},
     "output_type": "execute_result"
    }
   ],
   "source": [
    "from IPython.display import IFrame\n",
    "IFrame('visuals/trie/index.html', width=1080, height=1080)\n"
   ]
  },
  {
   "cell_type": "markdown",
   "metadata": {
    "collapsed": true,
    "deletable": true,
    "editable": true
   },
   "source": [
    "## Word Clouds\n",
    "We took the time to create two word clouds: one for spam and one for ham.  \n",
    "\n",
    "We accomplished this using an online tool at, the source code for the project is at https://github.com/jasondavies/d3-cloud.  There is an interactive session interact that makes creating a word cloud easily.\n",
    "\n",
    "These are both depicted below.\n",
    "\n",
    "###### Ham\n",
    "![ham](img/ham.png \"Ham\")\n",
    "As we can, ham has a lot of words that relate to making plans.  Come, going, just, and want all relate to making plans.  We also see pronouns like I, ur, and Id.  There are lots of abbreviations such as 4, 2, lol, and u.\n",
    "\n",
    "Spam:\n",
    "![spam](img/spam.png \"Spam\")\n",
    "In the spam word cloud, we see pretty much exactly what I would expect to see.  Words like free, cash, won, and win all make sense.  However, one really interesting thing that showed up was Nokia."
   ]
  },
  {
   "cell_type": "code",
   "execution_count": 3,
   "metadata": {
    "collapsed": false,
    "deletable": true,
    "editable": true,
    "scrolled": true
   },
   "outputs": [
    {
     "ename": "ImportError",
     "evalue": "No module named 'wordcloud'",
     "output_type": "error",
     "traceback": [
      "\u001b[0;31m---------------------------------------------------------------------------\u001b[0m",
      "\u001b[0;31mImportError\u001b[0m                               Traceback (most recent call last)",
      "\u001b[0;32m<ipython-input-3-7a6bc959dbc9>\u001b[0m in \u001b[0;36m<module>\u001b[0;34m()\u001b[0m\n\u001b[0;32m----> 1\u001b[0;31m \u001b[0;32mfrom\u001b[0m \u001b[0mwordcloud\u001b[0m \u001b[0;32mimport\u001b[0m \u001b[0mWordCloud\u001b[0m\u001b[0;34m\u001b[0m\u001b[0m\n\u001b[0m\u001b[1;32m      2\u001b[0m \u001b[0;32mfrom\u001b[0m \u001b[0mPIL\u001b[0m \u001b[0;32mimport\u001b[0m \u001b[0mImage\u001b[0m\u001b[0;34m\u001b[0m\u001b[0m\n\u001b[1;32m      3\u001b[0m \u001b[0;32mfrom\u001b[0m \u001b[0mio\u001b[0m \u001b[0;32mimport\u001b[0m \u001b[0mBytesIO\u001b[0m\u001b[0;34m\u001b[0m\u001b[0m\n\u001b[1;32m      4\u001b[0m \u001b[0;32mfrom\u001b[0m \u001b[0mpylab\u001b[0m \u001b[0;32mimport\u001b[0m \u001b[0mrcParams\u001b[0m\u001b[0;34m\u001b[0m\u001b[0m\n\u001b[1;32m      5\u001b[0m \u001b[0;31m# Generate a word cloud image\u001b[0m\u001b[0;34m\u001b[0m\u001b[0;34m\u001b[0m\u001b[0m\n",
      "\u001b[0;31mImportError\u001b[0m: No module named 'wordcloud'"
     ]
    }
   ],
   "source": [
    "from wordcloud import WordCloud\n",
    "from PIL import Image\n",
    "from io import BytesIO\n",
    "from pylab import rcParams\n",
    "# Generate a word cloud image\n",
    "stopwords = ['spam','ham']\n",
    "querywords = descriptors\n",
    "\n",
    "# image gotten from clipartpanda\n",
    "link = \"http://images.clipartpanda.com/phone-icon-vector-phone-icon-clip-art.jpg\"\n",
    "response = requests.get(link)\n",
    "phone_mask = np.array(Image.open(BytesIO(response.content)))\n",
    "\n",
    "result = ' '.join(filter(lambda x: x.lower() not in stopwords, querywords.split()))\n",
    "wordcloud = WordCloud().generate(result)\n",
    "\n",
    "# take relative word frequencies into account, lower max_font_size\n",
    "wordcloud = WordCloud(background_color=\"white\",max_words=len(result),max_font_size=60, relative_scaling=.8, mask=phone_mask).generate(result)\n",
    "rcParams['figure.figsize'] = 10,10\n",
    "plt.figure()\n",
    "plt.imshow(wordcloud)\n",
    "plt.axis(\"off\")\n",
    "plt.tight_layout()\n",
    "plt.show()"
   ]
  },
  {
   "cell_type": "markdown",
   "metadata": {},
   "source": [
    "This is an additional word map showing both data sets combined in the outline of a phone. It shows the same data the previous two word maps."
   ]
  },
  {
   "cell_type": "markdown",
   "metadata": {
    "collapsed": true,
    "deletable": true,
    "editable": true
   },
   "source": [
    "## Pair Analysis\n",
    "We decided to see what the most frequently occurring pairs of words in spam and in ham."
   ]
  },
  {
   "cell_type": "code",
   "execution_count": 42,
   "metadata": {
    "collapsed": false,
    "deletable": true,
    "editable": true,
    "scrolled": true
   },
   "outputs": [
    {
     "name": "stdout",
     "output_type": "stream",
     "text": [
      "               0    1\n",
      "804      be will  164\n",
      "4435     to need  167\n",
      "2457      get to  170\n",
      "798       the on  172\n",
      "2157         . .  185\n",
      "405        be to  187\n",
      "1437       i but  187\n",
      "376        was i  195\n",
      "637      to have  197\n",
      "198        can i  203\n",
      "86         i and  205\n",
      "1764        a in  209\n",
      "168     to going  213\n",
      "88       to want  229\n",
      "1684      you if  236\n",
      "136       have i  238\n",
      "806       the in  242\n",
      "259       you do  252\n",
      "1389     are you  259\n",
      "1282      will i  283\n",
      "137       a have  304\n",
      "458    &lt;#&gt;  349\n",
      "455         am i  369\n",
      "241      you are  435\n",
      "457   &lt;#&gt;   567\n"
     ]
    }
   ],
   "source": [
    "import pandas as pd\n",
    "\n",
    "def get_pairs(lines):\n",
    "    d={}\n",
    "    for text in lines:\n",
    "        i=1\n",
    "        words = text.replace(\"\\n\",\"\").split(\" \")\n",
    "        while(i < len(words)):\n",
    "            key = words[i]+\" \"+words[i-1]\n",
    "            if not key in d:\n",
    "                d[key]=0\n",
    "            d[key]+=1\n",
    "            i+=1\n",
    "    return d\n",
    "\n",
    "def get_top_25(lines):\n",
    "    d = get_pairs(lines)\n",
    "    df = pd.DataFrame([(x,y) for x,y in d.items()])\n",
    "    return df.sort([1])[-25:]\n",
    "\n",
    "spam_lines = [\" \".join(x[1:]).lower() for x in texts if x[0] == \"spam\"]\n",
    "ham_lines = [\" \".join(x[1:]).lower() for x in texts if x[0] == \"ham\"]\n",
    "\n",
    "top_spam = get_top_25(spam_lines)\n",
    "top_ham = get_top_25(ham_lines)\n",
    "\n",
    "print(top_ham)"
   ]
  },
  {
   "cell_type": "code",
   "execution_count": 43,
   "metadata": {
    "collapsed": false,
    "deletable": true,
    "editable": true,
    "scrolled": true
   },
   "outputs": [
    {
     "name": "stdout",
     "output_type": "stream",
     "text": [
      "                     0    1\n",
      "153             are we   42\n",
      "26              win to   42\n",
      "247              new a   43\n",
      "134   service customer   43\n",
      "155          to trying   45\n",
      "161         shows draw   45\n",
      "246             a have   48\n",
      "172      your private!   48\n",
      "174       your urgent!   48\n",
      "168             have u   53\n",
      "173  number_token your   54\n",
      "187              a win   57\n",
      "56            your for   60\n",
      "107             a with   62\n",
      "491            is this   65\n",
      "156         contact to   78\n",
      "254  number_token call   80\n",
      "131        call please   83\n",
      "104            are you   83\n",
      "108    £number_token a   94\n",
      "32               a won   96\n",
      "31            won have  110\n",
      "151    number_token to  110\n",
      "22         mobile your  116\n",
      "15            have you  179\n"
     ]
    }
   ],
   "source": [
    "print(top_spam)"
   ]
  },
  {
   "cell_type": "markdown",
   "metadata": {
    "deletable": true,
    "editable": true
   },
   "source": [
    "We thought these top 25 words were pretty interesting to look at.  The ham texts had lots of natural language as the most frequently occurring pair.  Pairs such as \"will I\", \"am I\", \"you are\" and \"to have\" are all frequent phrases in natural language.  This contrasted greatly from the top spam pairs.  The spam ones were all solicitory comments, such as \"call please\", \"won have\", \"have you\"."
   ]
  }
 ],
 "metadata": {
  "anaconda-cloud": {},
  "kernelspec": {
   "display_name": "Python [default]",
   "language": "python",
   "name": "python3"
  },
  "language_info": {
   "codemirror_mode": {
    "name": "ipython",
    "version": 3
   },
   "file_extension": ".py",
   "mimetype": "text/x-python",
   "name": "python",
   "nbconvert_exporter": "python",
   "pygments_lexer": "ipython3",
   "version": "3.5.2"
  }
 },
 "nbformat": 4,
 "nbformat_minor": 2
}
